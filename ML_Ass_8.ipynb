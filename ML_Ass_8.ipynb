{
  "nbformat": 4,
  "nbformat_minor": 0,
  "metadata": {
    "colab": {
      "name": "ML_Ass_8.ipynb",
      "provenance": [],
      "authorship_tag": "ABX9TyMZo3lPxKLNPIHj1dbmz92M",
      "include_colab_link": true
    },
    "kernelspec": {
      "name": "python3",
      "display_name": "Python 3"
    },
    "language_info": {
      "name": "python"
    }
  },
  "cells": [
    {
      "cell_type": "markdown",
      "metadata": {
        "id": "view-in-github",
        "colab_type": "text"
      },
      "source": [
        "<a href=\"https://colab.research.google.com/github/archanashokeeniitg/machineLearning/blob/main/ML_Ass_8.ipynb\" target=\"_parent\"><img src=\"https://colab.research.google.com/assets/colab-badge.svg\" alt=\"Open In Colab\"/></a>"
      ]
    },
    {
      "cell_type": "markdown",
      "metadata": {
        "id": "zYMiOfh37b3G"
      },
      "source": [
        "#Introduction\n",
        "\n",
        "FA21: CMPE-257 Sec 48 - Machine Learning\n",
        "\n",
        "Archana Shokeen (015237378)\n",
        "\n",
        "Assignment-Week-8\n",
        "\n",
        "San Jose State University\n"
      ]
    },
    {
      "cell_type": "markdown",
      "metadata": {
        "id": "OTwXB4p67F39"
      },
      "source": [
        "#**Veracity Factor - “Stance Detection”**\n",
        "\n",
        "##**Description**\n",
        "\n",
        "\n",
        "Fake news includes false stories about all sorts of topics that are crafted in order to appear real and get traffic and social shares on Facebook and Twitter. Stance Detection is one of the factors influencing fake news detection. Stance detection on social media is an emerging opinion mining paradigm for various social and political applications in which sentiment analysis may be sub-optimal.  For humans, its impractical to check the fact's every piece of information produced by the media. To overcome this we can make use of natural language processing (NLP) techniques to automate stance detection to determine the quality of the news source. It considers what other organizations write about the same headline. A body of the text is claimed to agree, disagree, discuss, or be unrelated to a headline.\n",
        "\n",
        "##**Academic Paper** - ”Stance detection on social media: State of the art and trends”\n",
        "\n",
        "**Reference**\n",
        "\n",
        "ALDayel, A., & Magdy, W. (2021). Stance detection on social media: State of the art and trends. Information Processing & Management, 58(4), 102597. https://doi.org/10.1016/j.ipm.2021.102597\n",
        "\n",
        "##**MicroFactors**\n",
        "\n",
        "* Agree\n",
        "* Disagree\n",
        "* Unrelated\n",
        "* Discuss\n",
        "\n",
        "## **DataScraping and Data source**\n",
        "The website used \"https://www.politifact.com/\" using Beautiful soup\n",
        "\n",
        "\n"
      ]
    },
    {
      "cell_type": "markdown",
      "metadata": {
        "id": "jrphEg0DGIKl"
      },
      "source": [
        "\n",
        "#Data Scraping from Poloitofact\n",
        "\n"
      ]
    },
    {
      "cell_type": "code",
      "metadata": {
        "id": "ut3nm_0PD90s"
      },
      "source": [
        "#Import the dependencies\n",
        "from bs4 import BeautifulSoup\n",
        "import pandas as pd\n",
        "import requests\n",
        "import urllib.request\n",
        "import time"
      ],
      "execution_count": 2,
      "outputs": []
    },
    {
      "cell_type": "code",
      "metadata": {
        "id": "vZLn7uX1pUW0"
      },
      "source": [
        "#Create lists to store the scraped data\n",
        "authors = []\n",
        "dates = []\n",
        "statements = []\n",
        "sources = []\n",
        "targets = []"
      ],
      "execution_count": 3,
      "outputs": []
    },
    {
      "cell_type": "code",
      "metadata": {
        "id": "YrHVc3FvpXLz"
      },
      "source": [
        "#Create a function to scrape the site\n",
        "def scrape_website(page_number):\n",
        "  page_num = str(page_number) #Convert the page number to a string\n",
        "  URL = 'https://www.politifact.com/factchecks/list/?page='+page_num #append the page number to complete the URL\n",
        "  webpage = requests.get(URL)  #Make a request to the website\n",
        "  #time.sleep(3)\n",
        "  soup = BeautifulSoup(webpage.text, \"html.parser\") #Parse the text from the website\n",
        "  #Get the tags and it's class\n",
        "  statement_footer =  soup.find_all('footer',attrs={'class':'m-statement__footer'})  #Get the tag and it's class\n",
        "  statement_quote = soup.find_all('div', attrs={'class':'m-statement__quote'}) #Get the tag and it's class\n",
        "  statement_meta = soup.find_all('div', attrs={'class':'m-statement__meta'})#Get the tag and it's class\n",
        "  target = soup.find_all('div', attrs={'class':'m-statement__meter'}) #Get the tag and it's class\n",
        "  #loop through the footer class m-statement__footer to get the date and author\n",
        "  for i in statement_footer:\n",
        "    link1 = i.text.strip()\n",
        "    name_and_date = link1.split()\n",
        "    first_name = name_and_date[1]\n",
        "    last_name = name_and_date[2]\n",
        "    full_name = first_name+' '+last_name\n",
        "    month = name_and_date[4]\n",
        "    day = name_and_date[5]\n",
        "    year = name_and_date[6]\n",
        "    date = month+' '+day+' '+year\n",
        "    dates.append(date)\n",
        "    authors.append(full_name)\n",
        "  #Loop through the div m-statement__quote to get the link\n",
        "  for i in statement_quote:\n",
        "    link2 = i.find_all('a')\n",
        "    statements.append(link2[0].text.strip())\n",
        " #Loop through the div m-statement__meta to get the source\n",
        "  for i in statement_meta:\n",
        "    link3 = i.find_all('a') #Source\n",
        "    source_text = link3[0].text.strip()\n",
        "    sources.append(source_text)\n",
        "  #Loop through the target or the div m-statement__meter to get the facts about the statement (True or False)\n",
        "  for i in target:\n",
        "    fact = i.find('div', attrs={'class':'c-image'}).find('img').get('alt')\n",
        "    targets.append(fact)\n"
      ],
      "execution_count": 4,
      "outputs": []
    },
    {
      "cell_type": "code",
      "metadata": {
        "id": "HVmJeVUFpZpo"
      },
      "source": [
        "#Loop through 'n-1' webpages to scrape the data\n",
        "n=5\n",
        "for i in range(1, n):\n",
        "  scrape_website(i)"
      ],
      "execution_count": 5,
      "outputs": []
    },
    {
      "cell_type": "code",
      "metadata": {
        "colab": {
          "base_uri": "https://localhost:8080/",
          "height": 419
        },
        "id": "3aijMpptpcU9",
        "outputId": "e87debc6-2496-467a-ee09-e9ff3784b9f8"
      },
      "source": [
        "#Create a new dataFrame \n",
        "\n",
        "data = pd.DataFrame(columns = ['author', 'date']) \n",
        "data.apply(lambda col: col.drop_duplicates().reset_index(drop=True))\n",
        "data['author'] = authors\n",
        "# data['statement'] = statements\n",
        "# data['source'] = sources\n",
        "data['date'] = dates\n",
        "# data['target'] = targets\n",
        "#Show the data set\n",
        "data"
      ],
      "execution_count": 6,
      "outputs": [
        {
          "output_type": "execute_result",
          "data": {
            "text/html": [
              "<div>\n",
              "<style scoped>\n",
              "    .dataframe tbody tr th:only-of-type {\n",
              "        vertical-align: middle;\n",
              "    }\n",
              "\n",
              "    .dataframe tbody tr th {\n",
              "        vertical-align: top;\n",
              "    }\n",
              "\n",
              "    .dataframe thead th {\n",
              "        text-align: right;\n",
              "    }\n",
              "</style>\n",
              "<table border=\"1\" class=\"dataframe\">\n",
              "  <thead>\n",
              "    <tr style=\"text-align: right;\">\n",
              "      <th></th>\n",
              "      <th>author</th>\n",
              "      <th>date</th>\n",
              "    </tr>\n",
              "  </thead>\n",
              "  <tbody>\n",
              "    <tr>\n",
              "      <th>0</th>\n",
              "      <td>Kiannah Sepeda-Miller</td>\n",
              "      <td>October 31, 2021</td>\n",
              "    </tr>\n",
              "    <tr>\n",
              "      <th>1</th>\n",
              "      <td>Tom Kertscher</td>\n",
              "      <td>October 29, 2021</td>\n",
              "    </tr>\n",
              "    <tr>\n",
              "      <th>2</th>\n",
              "      <td>Monique Curet</td>\n",
              "      <td>October 29, 2021</td>\n",
              "    </tr>\n",
              "    <tr>\n",
              "      <th>3</th>\n",
              "      <td>Samantha Putterman</td>\n",
              "      <td>October 29, 2021</td>\n",
              "    </tr>\n",
              "    <tr>\n",
              "      <th>4</th>\n",
              "      <td>Ciara O'Rourke</td>\n",
              "      <td>October 29, 2021</td>\n",
              "    </tr>\n",
              "    <tr>\n",
              "      <th>...</th>\n",
              "      <td>...</td>\n",
              "      <td>...</td>\n",
              "    </tr>\n",
              "    <tr>\n",
              "      <th>115</th>\n",
              "      <td>Samantha Putterman</td>\n",
              "      <td>October 11, 2021</td>\n",
              "    </tr>\n",
              "    <tr>\n",
              "      <th>116</th>\n",
              "      <td>Bill McCarthy</td>\n",
              "      <td>October 11, 2021</td>\n",
              "    </tr>\n",
              "    <tr>\n",
              "      <th>117</th>\n",
              "      <td>Gabrielle Settles</td>\n",
              "      <td>October 11, 2021</td>\n",
              "    </tr>\n",
              "    <tr>\n",
              "      <th>118</th>\n",
              "      <td>Jon Greenberg</td>\n",
              "      <td>October 11, 2021</td>\n",
              "    </tr>\n",
              "    <tr>\n",
              "      <th>119</th>\n",
              "      <td>Tom Kertscher</td>\n",
              "      <td>October 8, 2021</td>\n",
              "    </tr>\n",
              "  </tbody>\n",
              "</table>\n",
              "<p>120 rows × 2 columns</p>\n",
              "</div>"
            ],
            "text/plain": [
              "                    author              date\n",
              "0    Kiannah Sepeda-Miller  October 31, 2021\n",
              "1            Tom Kertscher  October 29, 2021\n",
              "2            Monique Curet  October 29, 2021\n",
              "3       Samantha Putterman  October 29, 2021\n",
              "4           Ciara O'Rourke  October 29, 2021\n",
              "..                     ...               ...\n",
              "115     Samantha Putterman  October 11, 2021\n",
              "116          Bill McCarthy  October 11, 2021\n",
              "117      Gabrielle Settles  October 11, 2021\n",
              "118          Jon Greenberg  October 11, 2021\n",
              "119          Tom Kertscher   October 8, 2021\n",
              "\n",
              "[120 rows x 2 columns]"
            ]
          },
          "metadata": {},
          "execution_count": 6
        }
      ]
    },
    {
      "cell_type": "markdown",
      "metadata": {
        "id": "CJS7-sK77EX1"
      },
      "source": [
        ""
      ]
    },
    {
      "cell_type": "code",
      "metadata": {
        "colab": {
          "base_uri": "https://localhost:8080/",
          "height": 255
        },
        "id": "i2bxzSVh6v4d",
        "outputId": "2aa5b5f0-c7cc-4d12-c234-7c3bbeeec111"
      },
      "source": [
        "import urllib.request,sys,time\n",
        "from bs4 import BeautifulSoup\n",
        "import requests\n",
        "import pandas as pd\n",
        "\n",
        "pagesToGet= 1\n",
        "\n",
        "upperframe=[]  \n",
        "for page in range(1,pagesToGet+1):\n",
        "    print('processing page :', page)\n",
        "    url = 'https://www.politifact.com/factchecks/list/?page='+str(page)\n",
        "    print(url)\n",
        "    \n",
        "    #an exception might be thrown, so the code should be in a try-except block\n",
        "    try:\n",
        "        #use the browser to get the url. This is suspicious command that might blow up.\n",
        "        page=requests.get(url)                             # this might throw an exception if something goes wrong.\n",
        "    \n",
        "    except Exception as e:                                   # this describes what to do if an exception is thrown\n",
        "        error_type, error_obj, error_info = sys.exc_info()      # get the exception information\n",
        "        print ('ERROR FOR LINK:',url)                          #print the link that cause the problem\n",
        "        print (error_type, 'Line:', error_info.tb_lineno)     #print error info and line that threw the exception\n",
        "        continue                                              #ignore this page. Abandon this and go back.\n",
        "    time.sleep(2)   \n",
        "    soup=BeautifulSoup(page.text,'html.parser')\n",
        "    frame=[]\n",
        "    links=soup.find_all('li',attrs={'class':'o-listicle__item'})\n",
        "    print(len(links))\n",
        "    filename=\"NEWS.csv\"\n",
        "    f=open(filename,\"w\", encoding = 'utf-8')\n",
        "    headers=\"Statement,Link,Date, Source, Label\\n\"\n",
        "    f.write(headers)\n",
        "    \n",
        "    for j in links:\n",
        "        Statement = j.find(\"div\",attrs={'class':'m-statement__quote'}).text.strip()\n",
        "        Link = \"https://www.politifact.com\"\n",
        "        Link += j.find(\"div\",attrs={'class':'m-statement__quote'}).find('a')['href'].strip()\n",
        "        Date = j.find('div',attrs={'class':'m-statement__body'}).find('footer').text[-14:-1].strip()\n",
        "        Source = j.find('div', attrs={'class':'m-statement__meta'}).find('a').text.strip()\n",
        "        Label = j.find('div', attrs ={'class':'m-statement__content'}).find('img',attrs={'class':'c-image__original'}).get('alt').strip()\n",
        "        frame.append((Statement,Link,Date,Source,Label))\n",
        "        f.write(Statement.replace(\",\",\"^\")+\",\"+Link+\",\"+Date.replace(\",\",\"^\")+\",\"+Source.replace(\",\",\"^\")+\",\"+Label.replace(\",\",\"^\")+\"\\n\")\n",
        "    upperframe.extend(frame)\n",
        "f.close()\n",
        "data=pd.DataFrame(upperframe, columns=['Statement','Link','Date','Source','Label'])\n",
        "data.head()"
      ],
      "execution_count": 7,
      "outputs": [
        {
          "output_type": "stream",
          "name": "stdout",
          "text": [
            "processing page : 1\n",
            "https://www.politifact.com/factchecks/list/?page=1\n",
            "30\n"
          ]
        },
        {
          "output_type": "execute_result",
          "data": {
            "text/html": [
              "<div>\n",
              "<style scoped>\n",
              "    .dataframe tbody tr th:only-of-type {\n",
              "        vertical-align: middle;\n",
              "    }\n",
              "\n",
              "    .dataframe tbody tr th {\n",
              "        vertical-align: top;\n",
              "    }\n",
              "\n",
              "    .dataframe thead th {\n",
              "        text-align: right;\n",
              "    }\n",
              "</style>\n",
              "<table border=\"1\" class=\"dataframe\">\n",
              "  <thead>\n",
              "    <tr style=\"text-align: right;\">\n",
              "      <th></th>\n",
              "      <th>Statement</th>\n",
              "      <th>Link</th>\n",
              "      <th>Date</th>\n",
              "      <th>Source</th>\n",
              "      <th>Label</th>\n",
              "    </tr>\n",
              "  </thead>\n",
              "  <tbody>\n",
              "    <tr>\n",
              "      <th>0</th>\n",
              "      <td>The migrant caravan from Tapachula, Mexico “is...</td>\n",
              "      <td>https://www.politifact.com/factchecks/2021/oct...</td>\n",
              "      <td>ober 31, 2021</td>\n",
              "      <td>Mary Miller</td>\n",
              "      <td>pants-fire</td>\n",
              "    </tr>\n",
              "    <tr>\n",
              "      <th>1</th>\n",
              "      <td>Blood “starts to clot in a minute or two” afte...</td>\n",
              "      <td>https://www.politifact.com/factchecks/2021/oct...</td>\n",
              "      <td>ober 29, 2021</td>\n",
              "      <td>Instagram posts</td>\n",
              "      <td>false</td>\n",
              "    </tr>\n",
              "    <tr>\n",
              "      <th>2</th>\n",
              "      <td>“Japan drops vax rollout”</td>\n",
              "      <td>https://www.politifact.com/factchecks/2021/oct...</td>\n",
              "      <td>ober 29, 2021</td>\n",
              "      <td>Hal Turner Radio Show</td>\n",
              "      <td>pants-fire</td>\n",
              "    </tr>\n",
              "    <tr>\n",
              "      <th>3</th>\n",
              "      <td>Virginia voters are being turned away from pol...</td>\n",
              "      <td>https://www.politifact.com/factchecks/2021/oct...</td>\n",
              "      <td>ober 29, 2021</td>\n",
              "      <td>Facebook posts</td>\n",
              "      <td>barely-true</td>\n",
              "    </tr>\n",
              "    <tr>\n",
              "      <th>4</th>\n",
              "      <td>In-N-Out cups say “F--- Joe Biden.”</td>\n",
              "      <td>https://www.politifact.com/factchecks/2021/oct...</td>\n",
              "      <td>ober 29, 2021</td>\n",
              "      <td>Viral image</td>\n",
              "      <td>false</td>\n",
              "    </tr>\n",
              "  </tbody>\n",
              "</table>\n",
              "</div>"
            ],
            "text/plain": [
              "                                           Statement  ...        Label\n",
              "0  The migrant caravan from Tapachula, Mexico “is...  ...   pants-fire\n",
              "1  Blood “starts to clot in a minute or two” afte...  ...        false\n",
              "2                          “Japan drops vax rollout”  ...   pants-fire\n",
              "3  Virginia voters are being turned away from pol...  ...  barely-true\n",
              "4                In-N-Out cups say “F--- Joe Biden.”  ...        false\n",
              "\n",
              "[5 rows x 5 columns]"
            ]
          },
          "metadata": {},
          "execution_count": 7
        }
      ]
    },
    {
      "cell_type": "code",
      "metadata": {
        "id": "Wumaack9NynF"
      },
      "source": [
        "data.to_csv('politifact_scraped_data.csv')"
      ],
      "execution_count": 8,
      "outputs": []
    }
  ]
}